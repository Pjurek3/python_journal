{
 "cells": [
  {
   "cell_type": "markdown",
   "metadata": {},
   "source": [
    "# Journal 2018.11.23\n",
    "## Exploring Pandas Styling\n",
    "This explores the capabilities in Pandas to Styling.  The main goals are:  \n",
    "* become more familiar with styling feature in pandas  \n",
    "* be able to style specific cells based of criteria  \n",
    "* be able to style whole rows based off criteria  \n",
    "* be able to apply new styles to tables to make them better for end users  \n",
    "\n",
    "For this setup, we will make random dataframe to do our sampling on.  "
   ]
  },
  {
   "cell_type": "code",
   "execution_count": 31,
   "metadata": {},
   "outputs": [],
   "source": [
    "import pandas as pd\n",
    "\n",
    "d = {'name': ['Bob', 'Fred', 'Tony'],\n",
    "    'age': [31,1,25],\n",
    "    'birth_location': ['IA', 'WA', 'AK']}\n",
    "\n",
    "df = pd.DataFrame(d)"
   ]
  },
  {
   "cell_type": "code",
   "execution_count": 32,
   "metadata": {},
   "outputs": [
    {
     "data": {
      "text/html": [
       "<div>\n",
       "<style scoped>\n",
       "    .dataframe tbody tr th:only-of-type {\n",
       "        vertical-align: middle;\n",
       "    }\n",
       "\n",
       "    .dataframe tbody tr th {\n",
       "        vertical-align: top;\n",
       "    }\n",
       "\n",
       "    .dataframe thead th {\n",
       "        text-align: right;\n",
       "    }\n",
       "</style>\n",
       "<table border=\"1\" class=\"dataframe\">\n",
       "  <thead>\n",
       "    <tr style=\"text-align: right;\">\n",
       "      <th></th>\n",
       "      <th>name</th>\n",
       "      <th>age</th>\n",
       "      <th>birth_location</th>\n",
       "    </tr>\n",
       "  </thead>\n",
       "  <tbody>\n",
       "    <tr>\n",
       "      <th>0</th>\n",
       "      <td>Bob</td>\n",
       "      <td>31</td>\n",
       "      <td>IA</td>\n",
       "    </tr>\n",
       "    <tr>\n",
       "      <th>1</th>\n",
       "      <td>Fred</td>\n",
       "      <td>1</td>\n",
       "      <td>WA</td>\n",
       "    </tr>\n",
       "    <tr>\n",
       "      <th>2</th>\n",
       "      <td>Tony</td>\n",
       "      <td>25</td>\n",
       "      <td>AK</td>\n",
       "    </tr>\n",
       "  </tbody>\n",
       "</table>\n",
       "</div>"
      ],
      "text/plain": [
       "   name  age birth_location\n",
       "0   Bob   31             IA\n",
       "1  Fred    1             WA\n",
       "2  Tony   25             AK"
      ]
     },
     "execution_count": 32,
     "metadata": {},
     "output_type": "execute_result"
    }
   ],
   "source": [
    "df"
   ]
  },
  {
   "cell_type": "markdown",
   "metadata": {},
   "source": [
    "# Coloring Specific Cells\n",
    "This could be used in many cases to highlight specific values in a table,  The two cases we want to look at are highlighting cells from specific state or if person is below certain age.  \n",
    "\n",
    "To do this, the examples show a new function needs to be specified then this will be called on the dataframe with apply or applymap.  We will make function to identify specific ages.  "
   ]
  },
  {
   "cell_type": "code",
   "execution_count": 33,
   "metadata": {},
   "outputs": [],
   "source": [
    "def highlight_young_people(s):\n",
    "    \"\"\"highlights people under 25 years old\"\"\"\n",
    "    return ['color: red' if v<=25 else '' for v in s]"
   ]
  },
  {
   "cell_type": "code",
   "execution_count": 34,
   "metadata": {},
   "outputs": [
    {
     "data": {
      "text/html": [
       "<style  type=\"text/css\" >\n",
       "    #T_fbde30f8_ef60_11e8_ad5f_144f8a1bf8b3row1_col1 {\n",
       "            color:  red;\n",
       "        }    #T_fbde30f8_ef60_11e8_ad5f_144f8a1bf8b3row2_col1 {\n",
       "            color:  red;\n",
       "        }</style>  \n",
       "<table id=\"T_fbde30f8_ef60_11e8_ad5f_144f8a1bf8b3\" > \n",
       "<thead>    <tr> \n",
       "        <th class=\"blank level0\" ></th> \n",
       "        <th class=\"col_heading level0 col0\" >name</th> \n",
       "        <th class=\"col_heading level0 col1\" >age</th> \n",
       "        <th class=\"col_heading level0 col2\" >birth_location</th> \n",
       "    </tr></thead> \n",
       "<tbody>    <tr> \n",
       "        <th id=\"T_fbde30f8_ef60_11e8_ad5f_144f8a1bf8b3level0_row0\" class=\"row_heading level0 row0\" >0</th> \n",
       "        <td id=\"T_fbde30f8_ef60_11e8_ad5f_144f8a1bf8b3row0_col0\" class=\"data row0 col0\" >Bob</td> \n",
       "        <td id=\"T_fbde30f8_ef60_11e8_ad5f_144f8a1bf8b3row0_col1\" class=\"data row0 col1\" >31</td> \n",
       "        <td id=\"T_fbde30f8_ef60_11e8_ad5f_144f8a1bf8b3row0_col2\" class=\"data row0 col2\" >IA</td> \n",
       "    </tr>    <tr> \n",
       "        <th id=\"T_fbde30f8_ef60_11e8_ad5f_144f8a1bf8b3level0_row1\" class=\"row_heading level0 row1\" >1</th> \n",
       "        <td id=\"T_fbde30f8_ef60_11e8_ad5f_144f8a1bf8b3row1_col0\" class=\"data row1 col0\" >Fred</td> \n",
       "        <td id=\"T_fbde30f8_ef60_11e8_ad5f_144f8a1bf8b3row1_col1\" class=\"data row1 col1\" >1</td> \n",
       "        <td id=\"T_fbde30f8_ef60_11e8_ad5f_144f8a1bf8b3row1_col2\" class=\"data row1 col2\" >WA</td> \n",
       "    </tr>    <tr> \n",
       "        <th id=\"T_fbde30f8_ef60_11e8_ad5f_144f8a1bf8b3level0_row2\" class=\"row_heading level0 row2\" >2</th> \n",
       "        <td id=\"T_fbde30f8_ef60_11e8_ad5f_144f8a1bf8b3row2_col0\" class=\"data row2 col0\" >Tony</td> \n",
       "        <td id=\"T_fbde30f8_ef60_11e8_ad5f_144f8a1bf8b3row2_col1\" class=\"data row2 col1\" >25</td> \n",
       "        <td id=\"T_fbde30f8_ef60_11e8_ad5f_144f8a1bf8b3row2_col2\" class=\"data row2 col2\" >AK</td> \n",
       "    </tr></tbody> \n",
       "</table> "
      ],
      "text/plain": [
       "<pandas.io.formats.style.Styler at 0x2101558c0f0>"
      ]
     },
     "execution_count": 34,
     "metadata": {},
     "output_type": "execute_result"
    }
   ],
   "source": [
    "df.style.apply(highlight_young_people, subset=['age'])"
   ]
  },
  {
   "cell_type": "markdown",
   "metadata": {},
   "source": [
    "This worked!  Now lets try again but on states.  We will try to bold ones which are in a specific list.  "
   ]
  },
  {
   "cell_type": "code",
   "execution_count": 35,
   "metadata": {},
   "outputs": [],
   "source": [
    "def bold_important_states(s):\n",
    "    \"\"\"highlights people under 25 years old\"\"\"\n",
    "    return ['color: red' if v in ['WA', 'IA'] else '' for v in s]"
   ]
  },
  {
   "cell_type": "code",
   "execution_count": 36,
   "metadata": {},
   "outputs": [
    {
     "data": {
      "text/html": [
       "<style  type=\"text/css\" >\n",
       "    #T_fbe55752_ef60_11e8_81c8_144f8a1bf8b3row0_col2 {\n",
       "            color:  red;\n",
       "        }    #T_fbe55752_ef60_11e8_81c8_144f8a1bf8b3row1_col2 {\n",
       "            color:  red;\n",
       "        }</style>  \n",
       "<table id=\"T_fbe55752_ef60_11e8_81c8_144f8a1bf8b3\" > \n",
       "<thead>    <tr> \n",
       "        <th class=\"blank level0\" ></th> \n",
       "        <th class=\"col_heading level0 col0\" >name</th> \n",
       "        <th class=\"col_heading level0 col1\" >age</th> \n",
       "        <th class=\"col_heading level0 col2\" >birth_location</th> \n",
       "    </tr></thead> \n",
       "<tbody>    <tr> \n",
       "        <th id=\"T_fbe55752_ef60_11e8_81c8_144f8a1bf8b3level0_row0\" class=\"row_heading level0 row0\" >0</th> \n",
       "        <td id=\"T_fbe55752_ef60_11e8_81c8_144f8a1bf8b3row0_col0\" class=\"data row0 col0\" >Bob</td> \n",
       "        <td id=\"T_fbe55752_ef60_11e8_81c8_144f8a1bf8b3row0_col1\" class=\"data row0 col1\" >31</td> \n",
       "        <td id=\"T_fbe55752_ef60_11e8_81c8_144f8a1bf8b3row0_col2\" class=\"data row0 col2\" >IA</td> \n",
       "    </tr>    <tr> \n",
       "        <th id=\"T_fbe55752_ef60_11e8_81c8_144f8a1bf8b3level0_row1\" class=\"row_heading level0 row1\" >1</th> \n",
       "        <td id=\"T_fbe55752_ef60_11e8_81c8_144f8a1bf8b3row1_col0\" class=\"data row1 col0\" >Fred</td> \n",
       "        <td id=\"T_fbe55752_ef60_11e8_81c8_144f8a1bf8b3row1_col1\" class=\"data row1 col1\" >1</td> \n",
       "        <td id=\"T_fbe55752_ef60_11e8_81c8_144f8a1bf8b3row1_col2\" class=\"data row1 col2\" >WA</td> \n",
       "    </tr>    <tr> \n",
       "        <th id=\"T_fbe55752_ef60_11e8_81c8_144f8a1bf8b3level0_row2\" class=\"row_heading level0 row2\" >2</th> \n",
       "        <td id=\"T_fbe55752_ef60_11e8_81c8_144f8a1bf8b3row2_col0\" class=\"data row2 col0\" >Tony</td> \n",
       "        <td id=\"T_fbe55752_ef60_11e8_81c8_144f8a1bf8b3row2_col1\" class=\"data row2 col1\" >25</td> \n",
       "        <td id=\"T_fbe55752_ef60_11e8_81c8_144f8a1bf8b3row2_col2\" class=\"data row2 col2\" >AK</td> \n",
       "    </tr></tbody> \n",
       "</table> "
      ],
      "text/plain": [
       "<pandas.io.formats.style.Styler at 0x2101558c710>"
      ]
     },
     "execution_count": 36,
     "metadata": {},
     "output_type": "execute_result"
    }
   ],
   "source": [
    "df.style.apply(bold_important_states, subset=['birth_location'])"
   ]
  },
  {
   "cell_type": "markdown",
   "metadata": {},
   "source": [
    "I don't know bold styling but we can figure this out later.  Next, lets apply both these.  "
   ]
  },
  {
   "cell_type": "code",
   "execution_count": 39,
   "metadata": {},
   "outputs": [
    {
     "data": {
      "text/html": [
       "<style  type=\"text/css\" >\n",
       "    #T_fbf3a480_ef60_11e8_b018_144f8a1bf8b3row0_col2 {\n",
       "            color:  red;\n",
       "        }    #T_fbf3a480_ef60_11e8_b018_144f8a1bf8b3row1_col1 {\n",
       "            color:  red;\n",
       "        }    #T_fbf3a480_ef60_11e8_b018_144f8a1bf8b3row1_col2 {\n",
       "            color:  red;\n",
       "        }    #T_fbf3a480_ef60_11e8_b018_144f8a1bf8b3row2_col1 {\n",
       "            color:  red;\n",
       "        }</style>  \n",
       "<table id=\"T_fbf3a480_ef60_11e8_b018_144f8a1bf8b3\" > \n",
       "<thead>    <tr> \n",
       "        <th class=\"blank level0\" ></th> \n",
       "        <th class=\"col_heading level0 col0\" >name</th> \n",
       "        <th class=\"col_heading level0 col1\" >age</th> \n",
       "        <th class=\"col_heading level0 col2\" >birth_location</th> \n",
       "    </tr></thead> \n",
       "<tbody>    <tr> \n",
       "        <th id=\"T_fbf3a480_ef60_11e8_b018_144f8a1bf8b3level0_row0\" class=\"row_heading level0 row0\" >0</th> \n",
       "        <td id=\"T_fbf3a480_ef60_11e8_b018_144f8a1bf8b3row0_col0\" class=\"data row0 col0\" >Bob</td> \n",
       "        <td id=\"T_fbf3a480_ef60_11e8_b018_144f8a1bf8b3row0_col1\" class=\"data row0 col1\" >31</td> \n",
       "        <td id=\"T_fbf3a480_ef60_11e8_b018_144f8a1bf8b3row0_col2\" class=\"data row0 col2\" >IA</td> \n",
       "    </tr>    <tr> \n",
       "        <th id=\"T_fbf3a480_ef60_11e8_b018_144f8a1bf8b3level0_row1\" class=\"row_heading level0 row1\" >1</th> \n",
       "        <td id=\"T_fbf3a480_ef60_11e8_b018_144f8a1bf8b3row1_col0\" class=\"data row1 col0\" >Fred</td> \n",
       "        <td id=\"T_fbf3a480_ef60_11e8_b018_144f8a1bf8b3row1_col1\" class=\"data row1 col1\" >1</td> \n",
       "        <td id=\"T_fbf3a480_ef60_11e8_b018_144f8a1bf8b3row1_col2\" class=\"data row1 col2\" >WA</td> \n",
       "    </tr>    <tr> \n",
       "        <th id=\"T_fbf3a480_ef60_11e8_b018_144f8a1bf8b3level0_row2\" class=\"row_heading level0 row2\" >2</th> \n",
       "        <td id=\"T_fbf3a480_ef60_11e8_b018_144f8a1bf8b3row2_col0\" class=\"data row2 col0\" >Tony</td> \n",
       "        <td id=\"T_fbf3a480_ef60_11e8_b018_144f8a1bf8b3row2_col1\" class=\"data row2 col1\" >25</td> \n",
       "        <td id=\"T_fbf3a480_ef60_11e8_b018_144f8a1bf8b3row2_col2\" class=\"data row2 col2\" >AK</td> \n",
       "    </tr></tbody> \n",
       "</table> "
      ],
      "text/plain": [
       "<pandas.io.formats.style.Styler at 0x2101558cbe0>"
      ]
     },
     "execution_count": 39,
     "metadata": {},
     "output_type": "execute_result"
    }
   ],
   "source": [
    "df.style.\\\n",
    "    apply(bold_important_states, subset=['birth_location']).\\\n",
    "    apply(highlight_young_people, subset=['age'])\n"
   ]
  },
  {
   "cell_type": "markdown",
   "metadata": {},
   "source": [
    "This shows we can easily chain these together.  "
   ]
  },
  {
   "cell_type": "markdown",
   "metadata": {},
   "source": [
    "# Highlight Rows based off value. \n",
    "Now we want to explore highlighting rows based off values.  The use case is to provide much easier formatting for users to see for specific values. In this case, we really want to identify who is from Iowa so we can ask them for sweet corn.  \n",
    "In looking at questions aroung this [2], it looks like we do similiar function as before except function will have to look at any member of the row.  "
   ]
  },
  {
   "cell_type": "code",
   "execution_count": 49,
   "metadata": {},
   "outputs": [
    {
     "data": {
      "text/html": [
       "<style  type=\"text/css\" >\n",
       "    #T_ae94e748_ef61_11e8_bcf6_144f8a1bf8b3row0_col0 {\n",
       "            color:  grey;\n",
       "             font-weight:  bold;\n",
       "        }    #T_ae94e748_ef61_11e8_bcf6_144f8a1bf8b3row0_col1 {\n",
       "            color:  grey;\n",
       "             font-weight:  bold;\n",
       "        }    #T_ae94e748_ef61_11e8_bcf6_144f8a1bf8b3row0_col2 {\n",
       "            color:  grey;\n",
       "             font-weight:  bold;\n",
       "        }    #T_ae94e748_ef61_11e8_bcf6_144f8a1bf8b3row1_col0 {\n",
       "            color:  grey;\n",
       "             font-weight:  bold;\n",
       "        }    #T_ae94e748_ef61_11e8_bcf6_144f8a1bf8b3row1_col1 {\n",
       "            color:  grey;\n",
       "             font-weight:  bold;\n",
       "        }    #T_ae94e748_ef61_11e8_bcf6_144f8a1bf8b3row1_col2 {\n",
       "            color:  grey;\n",
       "             font-weight:  bold;\n",
       "        }</style>  \n",
       "<table id=\"T_ae94e748_ef61_11e8_bcf6_144f8a1bf8b3\" > \n",
       "<thead>    <tr> \n",
       "        <th class=\"blank level0\" ></th> \n",
       "        <th class=\"col_heading level0 col0\" >name</th> \n",
       "        <th class=\"col_heading level0 col1\" >age</th> \n",
       "        <th class=\"col_heading level0 col2\" >birth_location</th> \n",
       "    </tr></thead> \n",
       "<tbody>    <tr> \n",
       "        <th id=\"T_ae94e748_ef61_11e8_bcf6_144f8a1bf8b3level0_row0\" class=\"row_heading level0 row0\" >0</th> \n",
       "        <td id=\"T_ae94e748_ef61_11e8_bcf6_144f8a1bf8b3row0_col0\" class=\"data row0 col0\" >Bob</td> \n",
       "        <td id=\"T_ae94e748_ef61_11e8_bcf6_144f8a1bf8b3row0_col1\" class=\"data row0 col1\" >31</td> \n",
       "        <td id=\"T_ae94e748_ef61_11e8_bcf6_144f8a1bf8b3row0_col2\" class=\"data row0 col2\" >IA</td> \n",
       "    </tr>    <tr> \n",
       "        <th id=\"T_ae94e748_ef61_11e8_bcf6_144f8a1bf8b3level0_row1\" class=\"row_heading level0 row1\" >1</th> \n",
       "        <td id=\"T_ae94e748_ef61_11e8_bcf6_144f8a1bf8b3row1_col0\" class=\"data row1 col0\" >Fred</td> \n",
       "        <td id=\"T_ae94e748_ef61_11e8_bcf6_144f8a1bf8b3row1_col1\" class=\"data row1 col1\" >1</td> \n",
       "        <td id=\"T_ae94e748_ef61_11e8_bcf6_144f8a1bf8b3row1_col2\" class=\"data row1 col2\" >WA</td> \n",
       "    </tr>    <tr> \n",
       "        <th id=\"T_ae94e748_ef61_11e8_bcf6_144f8a1bf8b3level0_row2\" class=\"row_heading level0 row2\" >2</th> \n",
       "        <td id=\"T_ae94e748_ef61_11e8_bcf6_144f8a1bf8b3row2_col0\" class=\"data row2 col0\" >Tony</td> \n",
       "        <td id=\"T_ae94e748_ef61_11e8_bcf6_144f8a1bf8b3row2_col1\" class=\"data row2 col1\" >25</td> \n",
       "        <td id=\"T_ae94e748_ef61_11e8_bcf6_144f8a1bf8b3row2_col2\" class=\"data row2 col2\" >AK</td> \n",
       "    </tr></tbody> \n",
       "</table> "
      ],
      "text/plain": [
       "<pandas.io.formats.style.Styler at 0x210155c2518>"
      ]
     },
     "execution_count": 49,
     "metadata": {},
     "output_type": "execute_result"
    }
   ],
   "source": [
    "def iowa_rows(s,column):\n",
    "    is_max = pd.Series(data=False, index=s.index)\n",
    "    is_max[column] = s.loc[column].isin(['IA', 'WA'])\n",
    "    return ['color: grey; font-weight: bold' if is_max.any() else '' for v in is_max]\n",
    "\n",
    "\n",
    "df.style.apply(iowa_rows,column=['birth_location'], axis=1)"
   ]
  },
  {
   "cell_type": "markdown",
   "metadata": {},
   "source": [
    "# Playing with Bar Charts\n",
    "We found in documenation you can do in table bar charts.  This is pretty cool and we may want to try this.  "
   ]
  },
  {
   "cell_type": "code",
   "execution_count": 37,
   "metadata": {},
   "outputs": [
    {
     "data": {
      "text/html": [
       "<style  type=\"text/css\" >\n",
       "    #T_fbea1bd0_ef60_11e8_91df_144f8a1bf8b3row0_col1 {\n",
       "            width:  10em;\n",
       "             height:  80%;\n",
       "            background:  linear-gradient(90deg,#d65f5f 100.0%, transparent 0%);\n",
       "        }    #T_fbea1bd0_ef60_11e8_91df_144f8a1bf8b3row1_col1 {\n",
       "            width:  10em;\n",
       "             height:  80%;\n",
       "        }    #T_fbea1bd0_ef60_11e8_91df_144f8a1bf8b3row2_col1 {\n",
       "            width:  10em;\n",
       "             height:  80%;\n",
       "            background:  linear-gradient(90deg,#d65f5f 80.0%, transparent 0%);\n",
       "        }</style>  \n",
       "<table id=\"T_fbea1bd0_ef60_11e8_91df_144f8a1bf8b3\" > \n",
       "<thead>    <tr> \n",
       "        <th class=\"blank level0\" ></th> \n",
       "        <th class=\"col_heading level0 col0\" >name</th> \n",
       "        <th class=\"col_heading level0 col1\" >age</th> \n",
       "        <th class=\"col_heading level0 col2\" >birth_location</th> \n",
       "    </tr></thead> \n",
       "<tbody>    <tr> \n",
       "        <th id=\"T_fbea1bd0_ef60_11e8_91df_144f8a1bf8b3level0_row0\" class=\"row_heading level0 row0\" >0</th> \n",
       "        <td id=\"T_fbea1bd0_ef60_11e8_91df_144f8a1bf8b3row0_col0\" class=\"data row0 col0\" >Bob</td> \n",
       "        <td id=\"T_fbea1bd0_ef60_11e8_91df_144f8a1bf8b3row0_col1\" class=\"data row0 col1\" >31</td> \n",
       "        <td id=\"T_fbea1bd0_ef60_11e8_91df_144f8a1bf8b3row0_col2\" class=\"data row0 col2\" >IA</td> \n",
       "    </tr>    <tr> \n",
       "        <th id=\"T_fbea1bd0_ef60_11e8_91df_144f8a1bf8b3level0_row1\" class=\"row_heading level0 row1\" >1</th> \n",
       "        <td id=\"T_fbea1bd0_ef60_11e8_91df_144f8a1bf8b3row1_col0\" class=\"data row1 col0\" >Fred</td> \n",
       "        <td id=\"T_fbea1bd0_ef60_11e8_91df_144f8a1bf8b3row1_col1\" class=\"data row1 col1\" >1</td> \n",
       "        <td id=\"T_fbea1bd0_ef60_11e8_91df_144f8a1bf8b3row1_col2\" class=\"data row1 col2\" >WA</td> \n",
       "    </tr>    <tr> \n",
       "        <th id=\"T_fbea1bd0_ef60_11e8_91df_144f8a1bf8b3level0_row2\" class=\"row_heading level0 row2\" >2</th> \n",
       "        <td id=\"T_fbea1bd0_ef60_11e8_91df_144f8a1bf8b3row2_col0\" class=\"data row2 col0\" >Tony</td> \n",
       "        <td id=\"T_fbea1bd0_ef60_11e8_91df_144f8a1bf8b3row2_col1\" class=\"data row2 col1\" >25</td> \n",
       "        <td id=\"T_fbea1bd0_ef60_11e8_91df_144f8a1bf8b3row2_col2\" class=\"data row2 col2\" >AK</td> \n",
       "    </tr></tbody> \n",
       "</table> "
      ],
      "text/plain": [
       "<pandas.io.formats.style.Styler at 0x2101558c588>"
      ]
     },
     "execution_count": 37,
     "metadata": {},
     "output_type": "execute_result"
    }
   ],
   "source": [
    "df.style.bar(subset=['age'], color='#d65f5f')"
   ]
  },
  {
   "cell_type": "markdown",
   "metadata": {},
   "source": [
    "# Conclusion\n",
    "The pandas library offers some very nice styling features to help make pandas reports much better. "
   ]
  },
  {
   "cell_type": "markdown",
   "metadata": {},
   "source": [
    "# References  \n",
    "[1] Official Documentation on Styling (https://pandas.pydata.org/pandas-docs/stable/style.html)  \n",
    "[2] Stackoverflow for highlighting row (https://stackoverflow.com/questions/43596579/how-to-use-python-pandas-stylers-for-coloring-an-entire-row-based-on-a-given-col)"
   ]
  },
  {
   "cell_type": "code",
   "execution_count": null,
   "metadata": {},
   "outputs": [],
   "source": []
  }
 ],
 "metadata": {
  "kernelspec": {
   "display_name": "Python 3",
   "language": "python",
   "name": "python3"
  },
  "language_info": {
   "codemirror_mode": {
    "name": "ipython",
    "version": 3
   },
   "file_extension": ".py",
   "mimetype": "text/x-python",
   "name": "python",
   "nbconvert_exporter": "python",
   "pygments_lexer": "ipython3",
   "version": "3.7.1rc1"
  }
 },
 "nbformat": 4,
 "nbformat_minor": 2
}
